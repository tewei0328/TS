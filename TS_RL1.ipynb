{
  "nbformat": 4,
  "nbformat_minor": 0,
  "metadata": {
    "colab": {
      "name": "TS_RL1.ipynb",
      "provenance": [],
      "toc_visible": true,
      "authorship_tag": "ABX9TyMaeVomVEx14zBRkPJfk5+S",
      "include_colab_link": true
    },
    "kernelspec": {
      "name": "python3",
      "display_name": "Python 3"
    }
  },
  "cells": [
    {
      "cell_type": "markdown",
      "metadata": {
        "id": "view-in-github",
        "colab_type": "text"
      },
      "source": [
        "<a href=\"https://colab.research.google.com/github/tewei0328/TS/blob/master/TS_RL1.ipynb\" target=\"_parent\"><img src=\"https://colab.research.google.com/assets/colab-badge.svg\" alt=\"Open In Colab\"/></a>"
      ]
    },
    {
      "cell_type": "markdown",
      "metadata": {
        "id": "msEODenF9OCy",
        "colab_type": "text"
      },
      "source": [
        "# Reinforcement Learning\n",
        "- A blundering guide to making a deep actor-critic bot for stock trading (為股票交易打造深具演員批評的機器人的錯誤指導)\n",
        "  - 技術分析處於一廂情願到瘋狂複雜數學的規模。如果數字有實際趨勢，而不論特定股票的基本面如何，那麼只要有足夠的函數逼近器（如深層神經網絡），強化學習就可以解決這個問題。\n",
        "  - 這是一個有趣且可能有利可圖的項目，我嘗試這樣做。我與RL的合作不到六個月，但仍未解決問題，但是在為一些基本遊戲提供AI學習器之後，就應該優先考慮時間序列的股市數據。\n",
        "  - 這並不容易，與其寫一篇文章向自己介紹一個解決了問題的專家，不如說是本文記錄了我在此過程中的過程和錯誤。\n",
        "  - https://towardsdatascience.com/a-blundering-guide-to-making-a-deep-actor-critic-bot-for-stock-trading-c3591f7e29c2\n",
        "  - https://github.com/tewei0328/RL-stocktrading\n",
        "- An Overview of Deep Reinforcement Learning for Trading\n",
        "  - https://www.mlq.ai/deep-reinforcement-learning-for-trading/"
      ]
    },
    {
      "cell_type": "code",
      "metadata": {
        "id": "1BdUosse8-Yu",
        "colab_type": "code",
        "colab": {}
      },
      "source": [
        "import math, random\n",
        "import gym\n",
        "import numpy as np\n",
        "import torch\n",
        "import torch.nn as nn\n",
        "import torch.optim as optim\n",
        "import torch.autograd as autograd\n",
        "import torch.nn.functional as F\n",
        "from torch.distributions import Categorical"
      ],
      "execution_count": 1,
      "outputs": []
    },
    {
      "cell_type": "code",
      "metadata": {
        "id": "_GJaaait92hF",
        "colab_type": "code",
        "colab": {
          "base_uri": "https://localhost:8080/",
          "height": 34
        },
        "outputId": "00e821b4-b1a1-4042-92ae-347fcfbba228"
      },
      "source": [
        "torch.manual_seed(51)"
      ],
      "execution_count": 2,
      "outputs": [
        {
          "output_type": "execute_result",
          "data": {
            "text/plain": [
              "<torch._C.Generator at 0x7ff01a784190>"
            ]
          },
          "metadata": {
            "tags": []
          },
          "execution_count": 2
        }
      ]
    },
    {
      "cell_type": "code",
      "metadata": {
        "id": "88_-t1a_-srQ",
        "colab_type": "code",
        "colab": {}
      },
      "source": [
        "%matplotlib inline\n",
        "import matplotlib.pyplot as plt"
      ],
      "execution_count": 3,
      "outputs": []
    },
    {
      "cell_type": "code",
      "metadata": {
        "id": "uLbZv7Je_1FO",
        "colab_type": "code",
        "colab": {}
      },
      "source": [
        "import quandl\n",
        "#quandl.ApiConfig.api_key = \"xxx\"\n",
        "apl_stock=quandl.get('WIKI/AAPL', start_date=\"2014-01-01\", end_date=\"2018-08-20\", )\n",
        "msf_stock=quandl.get('WIKI/MSFT', start_date=\"2014-01-01\", end_date=\"2018-08-20\")\n",
        "apl_open = apl_stock[\"Open\"].values\n",
        "apl_close = apl_stock[\"Close\"].values\n",
        "msf_open = msf_stock[\"Open\"].values\n",
        "msf_close = msf_stock[\"Close\"].values"
      ],
      "execution_count": null,
      "outputs": []
    },
    {
      "cell_type": "code",
      "metadata": {
        "id": "u5Pndy9rLKh8",
        "colab_type": "code",
        "colab": {
          "base_uri": "https://localhost:8080/",
          "height": 70
        },
        "outputId": "ae9d4cf4-1dc5-41b8-ad6c-e43c798b68fa"
      },
      "source": [
        "import pandas_datareader as pdr\n",
        "startTime = '2015-01-01'\n",
        "endTime = '2020-05-31'\n",
        "apl_stock = pdr.DataReader('^TWII', 'yahoo', startTime, endTime)\n",
        "msf_stock = pdr.DataReader('^TWII', 'yahoo', startTime, endTime)\n",
        "apl_open = apl_stock[\"Open\"].values\n",
        "apl_close = apl_stock[\"Close\"].values\n",
        "msf_open = msf_stock[\"Open\"].values\n",
        "msf_close = msf_stock[\"Close\"].values"
      ],
      "execution_count": 5,
      "outputs": [
        {
          "output_type": "stream",
          "text": [
            "/usr/local/lib/python3.6/dist-packages/pandas_datareader/compat/__init__.py:7: FutureWarning: pandas.util.testing is deprecated. Use the functions in the public API at pandas.testing instead.\n",
            "  from pandas.util.testing import assert_frame_equal\n"
          ],
          "name": "stderr"
        }
      ]
    }
  ]
}