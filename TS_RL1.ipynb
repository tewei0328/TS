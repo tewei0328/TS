{
  "nbformat": 4,
  "nbformat_minor": 0,
  "metadata": {
    "colab": {
      "name": "TS_RL1.ipynb",
      "provenance": [],
      "toc_visible": true,
      "authorship_tag": "ABX9TyP2UvrZ/S67w2g7e7R3CLcb",
      "include_colab_link": true
    },
    "kernelspec": {
      "name": "python3",
      "display_name": "Python 3"
    },
    "accelerator": "GPU"
  },
  "cells": [
    {
      "cell_type": "markdown",
      "metadata": {
        "id": "view-in-github",
        "colab_type": "text"
      },
      "source": [
        "<a href=\"https://colab.research.google.com/github/tewei0328/TS/blob/master/TS_RL1.ipynb\" target=\"_parent\"><img src=\"https://colab.research.google.com/assets/colab-badge.svg\" alt=\"Open In Colab\"/></a>"
      ]
    },
    {
      "cell_type": "markdown",
      "metadata": {
        "id": "msEODenF9OCy",
        "colab_type": "text"
      },
      "source": [
        "# Reinforcement Learning\n",
        "- A blundering guide to making a deep actor-critic bot for stock trading (為股票交易打造深具演員批評的機器人的錯誤指導)\n",
        "  - 技術分析處於一廂情願到瘋狂複雜數學的規模。如果數字有實際趨勢，而不論特定股票的基本面如何，那麼只要有足夠的函數逼近器（如深層神經網絡），強化學習就可以解決這個問題。\n",
        "  - 這是一個有趣且可能有利可圖的項目，我嘗試這樣做。我與RL的合作不到六個月，但仍未解決問題，但是在為一些基本遊戲提供AI學習器之後，就應該優先考慮時間序列的股市數據。\n",
        "  - 這並不容易，與其寫一篇文章向自己介紹一個解決了問題的專家，不如說是本文記錄了我在此過程中的過程和錯誤。\n",
        "  - https://towardsdatascience.com/a-blundering-guide-to-making-a-deep-actor-critic-bot-for-stock-trading-c3591f7e29c2\n",
        "  - https://github.com/tewei0328/RL-stocktrading\n",
        "- An Overview of Deep Reinforcement Learning for Trading\n",
        "  - https://www.mlq.ai/deep-reinforcement-learning-for-trading/"
      ]
    },
    {
      "cell_type": "code",
      "metadata": {
        "id": "1BdUosse8-Yu",
        "colab_type": "code",
        "colab": {}
      },
      "source": [
        "import math, random\n",
        "import gym\n",
        "import numpy as np\n",
        "import torch\n",
        "import torch.nn as nn\n",
        "import torch.optim as optim\n",
        "import torch.autograd as autograd\n",
        "import torch.nn.functional as F\n",
        "from torch.distributions import Categorical"
      ],
      "execution_count": 2,
      "outputs": []
    },
    {
      "cell_type": "code",
      "metadata": {
        "id": "_GJaaait92hF",
        "colab_type": "code",
        "colab": {
          "base_uri": "https://localhost:8080/",
          "height": 34
        },
        "outputId": "c2ab5274-4b57-4f77-9847-b544dac4fd00"
      },
      "source": [
        "torch.manual_seed(51)"
      ],
      "execution_count": 3,
      "outputs": [
        {
          "output_type": "execute_result",
          "data": {
            "text/plain": [
              "<torch._C.Generator at 0x7f2945243350>"
            ]
          },
          "metadata": {
            "tags": []
          },
          "execution_count": 3
        }
      ]
    },
    {
      "cell_type": "code",
      "metadata": {
        "id": "88_-t1a_-srQ",
        "colab_type": "code",
        "colab": {}
      },
      "source": [
        "%matplotlib inline\n",
        "import matplotlib.pyplot as plt"
      ],
      "execution_count": 4,
      "outputs": []
    },
    {
      "cell_type": "code",
      "metadata": {
        "id": "uLbZv7Je_1FO",
        "colab_type": "code",
        "colab": {}
      },
      "source": [
        "import quandl\n",
        "#quandl.ApiConfig.api_key = \"xxx\"\n",
        "apl_stock=quandl.get('WIKI/AAPL', start_date=\"2014-01-01\", end_date=\"2018-08-20\", )\n",
        "msf_stock=quandl.get('WIKI/MSFT', start_date=\"2014-01-01\", end_date=\"2018-08-20\")\n",
        "apl_open = apl_stock[\"Open\"].values\n",
        "apl_close = apl_stock[\"Close\"].values\n",
        "msf_open = msf_stock[\"Open\"].values\n",
        "msf_close = msf_stock[\"Close\"].values"
      ],
      "execution_count": null,
      "outputs": []
    },
    {
      "cell_type": "code",
      "metadata": {
        "id": "u5Pndy9rLKh8",
        "colab_type": "code",
        "colab": {
          "base_uri": "https://localhost:8080/",
          "height": 70
        },
        "outputId": "bfe5a690-df6f-459c-d5f6-6492a3abc59e"
      },
      "source": [
        "import pandas_datareader as pdr\n",
        "startTime = '2015-01-01'\n",
        "endTime = '2020-05-31'\n",
        "apl_stock = pdr.DataReader('^TWII', 'yahoo', startTime, endTime)\n",
        "msf_stock = pdr.DataReader('^TWII', 'yahoo', startTime, endTime)\n",
        "apl_open = apl_stock[\"Open\"].values\n",
        "apl_close = apl_stock[\"Close\"].values\n",
        "msf_open = msf_stock[\"Open\"].values\n",
        "msf_close = msf_stock[\"Close\"].values"
      ],
      "execution_count": 5,
      "outputs": [
        {
          "output_type": "stream",
          "text": [
            "/usr/local/lib/python3.6/dist-packages/pandas_datareader/compat/__init__.py:7: FutureWarning: pandas.util.testing is deprecated. Use the functions in the public API at pandas.testing instead.\n",
            "  from pandas.util.testing import assert_frame_equal\n"
          ],
          "name": "stderr"
        }
      ]
    },
    {
      "cell_type": "code",
      "metadata": {
        "id": "Y6NExrsIMjZG",
        "colab_type": "code",
        "colab": {
          "base_uri": "https://localhost:8080/",
          "height": 225
        },
        "outputId": "7e6d2d2d-4da5-4c35-bf3d-f9732f34cc49"
      },
      "source": [
        "msf_stock.head()"
      ],
      "execution_count": 6,
      "outputs": [
        {
          "output_type": "execute_result",
          "data": {
            "text/html": [
              "<div>\n",
              "<style scoped>\n",
              "    .dataframe tbody tr th:only-of-type {\n",
              "        vertical-align: middle;\n",
              "    }\n",
              "\n",
              "    .dataframe tbody tr th {\n",
              "        vertical-align: top;\n",
              "    }\n",
              "\n",
              "    .dataframe thead th {\n",
              "        text-align: right;\n",
              "    }\n",
              "</style>\n",
              "<table border=\"1\" class=\"dataframe\">\n",
              "  <thead>\n",
              "    <tr style=\"text-align: right;\">\n",
              "      <th></th>\n",
              "      <th>High</th>\n",
              "      <th>Low</th>\n",
              "      <th>Open</th>\n",
              "      <th>Close</th>\n",
              "      <th>Volume</th>\n",
              "      <th>Adj Close</th>\n",
              "    </tr>\n",
              "    <tr>\n",
              "      <th>Date</th>\n",
              "      <th></th>\n",
              "      <th></th>\n",
              "      <th></th>\n",
              "      <th></th>\n",
              "      <th></th>\n",
              "      <th></th>\n",
              "    </tr>\n",
              "  </thead>\n",
              "  <tbody>\n",
              "    <tr>\n",
              "      <th>2015-01-05</th>\n",
              "      <td>9292.309570</td>\n",
              "      <td>9182.019531</td>\n",
              "      <td>9292.309570</td>\n",
              "      <td>9274.110352</td>\n",
              "      <td>2311000.0</td>\n",
              "      <td>9274.076172</td>\n",
              "    </tr>\n",
              "    <tr>\n",
              "      <th>2015-01-06</th>\n",
              "      <td>9209.929688</td>\n",
              "      <td>9043.440430</td>\n",
              "      <td>9209.929688</td>\n",
              "      <td>9048.339844</td>\n",
              "      <td>2725800.0</td>\n",
              "      <td>9048.306641</td>\n",
              "    </tr>\n",
              "    <tr>\n",
              "      <th>2015-01-07</th>\n",
              "      <td>9108.660156</td>\n",
              "      <td>9050.540039</td>\n",
              "      <td>9051.940430</td>\n",
              "      <td>9080.089844</td>\n",
              "      <td>2384100.0</td>\n",
              "      <td>9080.055664</td>\n",
              "    </tr>\n",
              "    <tr>\n",
              "      <th>2015-01-08</th>\n",
              "      <td>9246.620117</td>\n",
              "      <td>9154.030273</td>\n",
              "      <td>9154.030273</td>\n",
              "      <td>9238.030273</td>\n",
              "      <td>2657600.0</td>\n",
              "      <td>9237.996094</td>\n",
              "    </tr>\n",
              "    <tr>\n",
              "      <th>2015-01-09</th>\n",
              "      <td>9284.570312</td>\n",
              "      <td>9215.580078</td>\n",
              "      <td>9247.400391</td>\n",
              "      <td>9215.580078</td>\n",
              "      <td>2398800.0</td>\n",
              "      <td>9215.545898</td>\n",
              "    </tr>\n",
              "  </tbody>\n",
              "</table>\n",
              "</div>"
            ],
            "text/plain": [
              "                   High          Low  ...     Volume    Adj Close\n",
              "Date                                  ...                        \n",
              "2015-01-05  9292.309570  9182.019531  ...  2311000.0  9274.076172\n",
              "2015-01-06  9209.929688  9043.440430  ...  2725800.0  9048.306641\n",
              "2015-01-07  9108.660156  9050.540039  ...  2384100.0  9080.055664\n",
              "2015-01-08  9246.620117  9154.030273  ...  2657600.0  9237.996094\n",
              "2015-01-09  9284.570312  9215.580078  ...  2398800.0  9215.545898\n",
              "\n",
              "[5 rows x 6 columns]"
            ]
          },
          "metadata": {
            "tags": []
          },
          "execution_count": 6
        }
      ]
    },
    {
      "cell_type": "code",
      "metadata": {
        "id": "Kn_Sv1-WMsby",
        "colab_type": "code",
        "colab": {
          "base_uri": "https://localhost:8080/",
          "height": 282
        },
        "outputId": "f4f0e2df-85a2-4e94-c046-6d660b0d8c40"
      },
      "source": [
        "plt.plot(range(0, len(msf_open)), msf_open)"
      ],
      "execution_count": 7,
      "outputs": [
        {
          "output_type": "execute_result",
          "data": {
            "text/plain": [
              "[<matplotlib.lines.Line2D at 0x7f294462ffd0>]"
            ]
          },
          "metadata": {
            "tags": []
          },
          "execution_count": 7
        },
        {
          "output_type": "display_data",
          "data": {
            "image/png": "[encoded data removed]",
            "text/plain": [
              "<Figure size 432x288 with 1 Axes>"
            ]
          },
          "metadata": {
            "tags": [],
            "needs_background": "light"
          }
        }
      ]
    },
    {
      "cell_type": "code",
      "metadata": {
        "id": "bTRNucV6NGYq",
        "colab_type": "code",
        "colab": {
          "base_uri": "https://localhost:8080/",
          "height": 84
        },
        "outputId": "6f92262d-d8b8-4815-d526-ba4170c60e80"
      },
      "source": [
        "print(apl_open.min())\n",
        "print(apl_close.min())\n",
        "print(msf_open.min())\n",
        "print(msf_close.min())"
      ],
      "execution_count": 8,
      "outputs": [
        {
          "output_type": "stream",
          "text": [
            "7427.35986328125\n",
            "7410.33984375\n",
            "7427.35986328125\n",
            "7410.33984375\n"
          ],
          "name": "stdout"
        }
      ]
    },
    {
      "cell_type": "markdown",
      "metadata": {
        "id": "83SUN4pdNTn0",
        "colab_type": "text"
      },
      "source": [
        "## Build the environment\n",
        "- For starting cash, we can't use a dollar value because of the transformed data. After shifting earlier, we know the mean of each opening price should be 35, so I'm starting the agent off with enough cash to buy ~2.5 shares.\n",
        "- This starting cash is the mean starting cash; it can be randomized by altering the std parameter\n",
        "- action space = 0 buy apple, 1 sell apple, 2 do nothing, 3 buy msft, 4 sell msft, quantity. eg. [0, 100]\n",
        "- obs space: apl shares, msft shares, cash in bank [2], today apl open [3], today msf open [4], portfolio value [5], 5 day window [6apl, 7msf] = 8\n",
        "- If bot gets to the end with more than one of each share, we give it a bonus for having a diversified portfolio!\n",
        "- Buys and sells attract a 10% brokerage fee"
      ]
    },
    {
      "cell_type": "code",
      "metadata": {
        "id": "QZ8-RBRtNR8M",
        "colab_type": "code",
        "colab": {}
      },
      "source": [
        "class TradingEnvironment():\n",
        "\n",
        "    def __init__(self, starting_cash_mean=200., max_stride=5, series_length=208, starting_point=1, randomize_cash_std=0, \\\n",
        "                 starting_shares_mean=0., randomize_shares_std=0., inaction_penalty=0.):\n",
        "        self.starting_shares_mean = starting_shares_mean\n",
        "        self.randomize_shares_std = randomize_shares_std\n",
        "        self.starting_cash_mean = starting_cash_mean\n",
        "        self.randomize_cash_std = randomize_cash_std\n",
        "        \n",
        "        self.state = torch.FloatTensor(torch.zeros(8)).cuda()\n",
        "        \n",
        "        self.starting_cash = max(int(np.random.normal(self.starting_cash_mean, self.randomize_cash_std)), 0.)\n",
        "        \n",
        "        self.series_length = series_length\n",
        "        self.starting_point = starting_point\n",
        "        self.cur_timestep = self.starting_point\n",
        "        \n",
        "        self.state[0] = max(int(np.random.normal(self.starting_shares_mean, self.randomize_shares_std)), 0.)\n",
        "        self.state[1] = max(int(np.random.normal(self.starting_shares_mean, self.randomize_shares_std)), 0.)\n",
        "        self.starting_portfolio_value = self.portfolio_value()\n",
        "        self.state[2] = self.starting_cash\n",
        "        self.state[3] = apl_open[self.cur_timestep]\n",
        "        self.state[4] = msf_open[self.cur_timestep]\n",
        "        self.state[5] = self.starting_portfolio_value\n",
        "        self.state[6] = self.five_day_window()[0]\n",
        "        self.state[7] = self.five_day_window()[1]\n",
        "        \n",
        "        self.max_stride = max_stride\n",
        "        self.stride = self.max_stride # no longer varying it\n",
        "        \n",
        "        self.done = False\n",
        "        self.diversification_bonus = 1.\n",
        "        self.inaction_penalty = inaction_penalty\n",
        "    \n",
        "    def portfolio_value(self):\n",
        "        return (self.state[0] * apl_close[self.cur_timestep]) + (self.state[1] * msf_close[self.cur_timestep]) + self.state[2]\n",
        "    \n",
        "    def next_opening_price(self):\n",
        "        step = self.cur_timestep + self.stride\n",
        "        return [apl_open[step], msf_open[step]]\n",
        "    \n",
        "    def five_day_window(self):\n",
        "        step = self.cur_timestep\n",
        "        if step < 5:\n",
        "            return [apl_open[0], msf_open[0]]\n",
        "        apl5 = apl_open[step-5:step].mean()\n",
        "        msf5 = msf_open[step-5:step].mean()\n",
        "        return [apl5, msf5]\n",
        "    \n",
        "    def step(self, action):\n",
        "        action = [action, 1.]\n",
        "        cur_timestep = self.cur_timestep\n",
        "        ts_left = self.series_length - (cur_timestep - self.starting_point)\n",
        "        retval = None\n",
        "        cur_value = self.portfolio_value()\n",
        "        gain = cur_value - self.starting_portfolio_value\n",
        "        \n",
        "        if cur_timestep >= self.starting_point + (self.series_length * self.stride):\n",
        "            new_state = [self.state[0], self.state[1], self.state[2], *self.next_opening_price(), \\\n",
        "                        cur_value, *self.five_day_window()]\n",
        "            self.state = new_state\n",
        "            bonus = 0.\n",
        "            if self.state[0] > 0 and self.state[1] > 0:\n",
        "                bonus = self.diversification_bonus\n",
        "            return new_state, cur_value + bonus + gain, True, { \"msg\": \"done\"}\n",
        "        \n",
        "        if action[0] == 2:\n",
        "            new_state = [self.state[0], self.state[1], self.state[2], *self.next_opening_price(), \\\n",
        "                    cur_value, *self.five_day_window()]\n",
        "            self.state = new_state\n",
        "            retval = new_state, -self.inaction_penalty-ts_left +gain, False, { \"msg\": \"nothing\" }\n",
        "            \n",
        "        if action[0] == 0:\n",
        "            if action[1] * apl_open[cur_timestep] > self.state[2]:\n",
        "                new_state = [self.state[0], self.state[1], self.state[2], *self.next_opening_price(), \\\n",
        "                        cur_value, *self.five_day_window()]\n",
        "                self.state = new_state\n",
        "                retval = new_state, -ts_left+gain/2, True, { \"msg\": \"bankrupted self\"}\n",
        "            else:\n",
        "                apl_shares = self.state[0] + action[1]\n",
        "                cash_spent = action[1] * apl_open[cur_timestep] * 1.1\n",
        "                new_state = [apl_shares, self.state[1], self.state[2] - cash_spent, *self.next_opening_price(), \\\n",
        "                       cur_value, *self.five_day_window()]\n",
        "                self.state = new_state\n",
        "                retval = new_state, self.inaction_penalty-ts_left+gain, False, { \"msg\": \"bought AAPL\"}\n",
        "                \n",
        "        if action[0] == 3:\n",
        "            if action[1] * msf_open[cur_timestep] > self.state[2]:\n",
        "                new_state = [self.state[0], self.state[1], self.state[2], *self.next_opening_price(), \\\n",
        "                        cur_value, *self.five_day_window()]\n",
        "                self.state = new_state\n",
        "                retval =  new_state, -ts_left+gain/2, True, { \"msg\": \"bankrupted self\"}\n",
        "            else:\n",
        "                msf_shares = self.state[1] + action[1]\n",
        "                cash_spent = action[1] * msf_open[cur_timestep] * 1.1\n",
        "                new_state = [self.state[0], msf_shares, self.state[2] - cash_spent, *self.next_opening_price(), \\\n",
        "                       cur_value, *self.five_day_window()]\n",
        "                self.state = new_state\n",
        "                retval = new_state, self.inaction_penalty-ts_left+gain, False, { \"msg\": \"bought MSFT\"}\n",
        "        \n",
        "\n",
        "        if action[0] == 1:\n",
        "            if action[1] > self.state[0]:\n",
        "                new_state = [self.state[0], self.state[1], self.state[2], *self.next_opening_price(), \\\n",
        "                        cur_value, *self.five_day_window()]\n",
        "                self.state = new_state\n",
        "                retval = new_state, -ts_left+gain/2, True, { \"msg\": \"sold more than have\"}\n",
        "            else:\n",
        "                apl_shares = self.state[0] - action[1]\n",
        "                cash_gained = action[1] * apl_open[cur_timestep] * 0.9\n",
        "                new_state = [apl_shares, self.state[1], self.state[2] + cash_gained, *self.next_opening_price(), \\\n",
        "                       cur_value, *self.five_day_window()]\n",
        "                self.state = new_state\n",
        "                retval = new_state, self.inaction_penalty-ts_left+gain, False, { \"msg\": \"sold AAPL\"}\n",
        "                \n",
        "        if action[0] == 4:\n",
        "            if action[1] > self.state[1]:\n",
        "                new_state = [self.state[0], self.state[1], self.state[2], *self.next_opening_price(), \\\n",
        "                        cur_value, *self.five_day_window()]\n",
        "                self.state = new_state\n",
        "                retval = new_state, -ts_left+gain/2, True, { \"msg\": \"sold more than have\"}\n",
        "            else:\n",
        "                msf_shares = self.state[1] - action[1]\n",
        "                cash_gained = action[1] * msf_open[cur_timestep] * 0.9\n",
        "                new_state = [self.state[0], msf_shares, self.state[2] + cash_gained, *self.next_opening_price(), \\\n",
        "                       cur_value, *self.five_day_window()]\n",
        "                self.state = new_state\n",
        "                retval = new_state, self.inaction_penalty-ts_left+gain, False, { \"msg\": \"sold MSFT\"}\n",
        "                \n",
        "        self.cur_timestep += self.stride\n",
        "        return retval\n",
        "    \n",
        "    def reset(self):\n",
        "        self.state = torch.FloatTensor(torch.zeros(8)).cuda()\n",
        "        self.starting_cash = max(int(np.random.normal(self.starting_cash_mean, self.randomize_cash_std)), 0.)\n",
        "        self.cur_timestep = self.starting_point\n",
        "        self.state[0] = max(int(np.random.normal(self.starting_shares_mean, self.randomize_shares_std)), 0.)\n",
        "        self.state[1] = max(int(np.random.normal(self.starting_shares_mean, self.randomize_shares_std)), 0.)\n",
        "        self.state[2] = self.starting_cash\n",
        "        self.state[3] = apl_open[self.cur_timestep]\n",
        "        self.state[4] = msf_open[self.cur_timestep]\n",
        "        self.starting_portfolio_value = self.portfolio_value()\n",
        "        self.state[5] = self.starting_portfolio_value\n",
        "        self.state[6] = self.five_day_window()[0]\n",
        "        self.state[7] = self.five_day_window()[1]       \n",
        "        self.done = False\n",
        "        return self.state"
      ],
      "execution_count": 9,
      "outputs": []
    },
    {
      "cell_type": "code",
      "metadata": {
        "id": "jg1phXkjNsYr",
        "colab_type": "code",
        "colab": {}
      },
      "source": [
        "class Policy(nn.Module):\n",
        "    def __init__(self):\n",
        "        super(Policy, self).__init__()\n",
        "        self.input_layer = nn.Linear(8, 128)\n",
        "        self.hidden_1 = nn.Linear(128, 128)\n",
        "        self.hidden_2 = nn.Linear(32,31)\n",
        "        self.hidden_state = torch.tensor(torch.zeros(2,1,32)).cuda()\n",
        "        self.rnn = nn.GRU(128, 32, 2)\n",
        "        self.action_head = nn.Linear(31, 5)\n",
        "        self.value_head = nn.Linear(31, 1)\n",
        "        self.saved_actions = []\n",
        "        self.rewards = []\n",
        "\n",
        "    def reset_hidden(self):\n",
        "        self.hidden_state = torch.tensor(torch.zeros(2,1,32)).cuda()\n",
        "        \n",
        "    def forward(self, x):\n",
        "        x = torch.tensor(x).cuda()\n",
        "        x = torch.sigmoid(self.input_layer(x))\n",
        "        x = torch.tanh(self.hidden_1(x))\n",
        "        x, self.hidden_state = self.rnn(x.view(1,-1,128), self.hidden_state.data)\n",
        "        x = F.relu(self.hidden_2(x.squeeze()))\n",
        "        action_scores = self.action_head(x)\n",
        "        state_values = self.value_head(x)\n",
        "        return F.softmax(action_scores, dim=-1), state_values\n",
        "    \n",
        "    def act(self, state):\n",
        "        probs, state_value = self.forward(state)\n",
        "        m = Categorical(probs)\n",
        "        action = m.sample()\n",
        "        if action == 1 and env.state[0] < 1: action = torch.LongTensor([2]).squeeze().cuda()\n",
        "        if action == 4 and env.state[1] < 1: action = torch.LongTensor([2]).squeeze().cuda()\n",
        "        self.saved_actions.append((m.log_prob(action), state_value))\n",
        "        return action.item()"
      ],
      "execution_count": 10,
      "outputs": []
    },
    {
      "cell_type": "code",
      "metadata": {
        "id": "qbFz9y9QNwax",
        "colab_type": "code",
        "colab": {
          "base_uri": "https://localhost:8080/",
          "height": 70
        },
        "outputId": "13e9965a-b8a2-4987-a0e4-e45dc3331c20"
      },
      "source": [
        "# 注意: 使用cuda前, colab要先選GPU\n",
        "env = TradingEnvironment(max_stride=4, series_length=250, starting_cash_mean=1000, randomize_cash_std=100, starting_shares_mean=100, randomize_shares_std=10)\n",
        "model = Policy().cuda()\n",
        "optimizer = optim.Adam(model.parameters(), lr=3e-4)"
      ],
      "execution_count": 11,
      "outputs": [
        {
          "output_type": "stream",
          "text": [
            "/usr/local/lib/python3.6/dist-packages/ipykernel_launcher.py:7: UserWarning: To copy construct from a tensor, it is recommended to use sourceTensor.clone().detach() or sourceTensor.clone().detach().requires_grad_(True), rather than torch.tensor(sourceTensor).\n",
            "  import sys\n"
          ],
          "name": "stderr"
        }
      ]
    }
  ]
}